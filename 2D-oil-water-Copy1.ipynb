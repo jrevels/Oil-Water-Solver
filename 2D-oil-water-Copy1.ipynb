{
 "cells": [
  {
   "cell_type": "code",
   "execution_count": 2,
   "metadata": {
    "collapsed": true
   },
   "outputs": [],
   "source": [
    "using PyPlot"
   ]
  },
  {
   "cell_type": "code",
   "execution_count": 37,
   "metadata": {
    "collapsed": false
   },
   "outputs": [
    {
     "data": {
      "text/plain": [
       "0.001127"
      ]
     },
     "execution_count": 37,
     "metadata": {},
     "output_type": "execute_result"
    }
   ],
   "source": [
    "#size of the reservoir\n",
    "global Nx=61;   #meshing\n",
    "global Ny=61;\n",
    "\n",
    "Lx=10000;   #inch\n",
    "Ly=10000;\n",
    "\n",
    "global z=50;  #reservoir depth\n",
    "\n",
    "global dx=Lx/Nx;   #grid size\n",
    "global dy=Ly/Ny;\n",
    "\n",
    "\n",
    "global q_produce=1000;  #oil produce barrel per day \n",
    "global q_inject=-250;   #water injection \n",
    "\n",
    "C=0.001127;  #conversion coeff. convert the oil field unit into SI"
   ]
  },
  {
   "cell_type": "code",
   "execution_count": 32,
   "metadata": {
    "collapsed": false
   },
   "outputs": [
    {
     "data": {
      "text/plain": [
       "0.001"
      ]
     },
     "execution_count": 32,
     "metadata": {},
     "output_type": "execute_result"
    }
   ],
   "source": [
    "#Time step\n",
    "global dt=1;   #time step. one day\n",
    "global T=10;  #maximum time\n",
    "\n",
    "#error\n",
    "global err=1e-3   #error for residue in Newtonian method"
   ]
  },
  {
   "cell_type": "code",
   "execution_count": 5,
   "metadata": {
    "collapsed": false
   },
   "outputs": [
    {
     "data": {
      "text/plain": [
       "0.1127"
      ]
     },
     "execution_count": 5,
     "metadata": {},
     "output_type": "execute_result"
    }
   ],
   "source": [
    "#fliud and rock properties\n",
    "\n",
    "#viscosity\n",
    "muo=2;  #oil\n",
    "muw=1;  #water\n",
    "\n",
    "#porosity\n",
    "global phistd=0.2;  #rock porosity\n",
    "\n",
    "#compressibility\n",
    "global cr =15e-6;   #1/psi\n",
    "co=0;\n",
    "cw=0;\n",
    "\n",
    "#standard condition;\n",
    "global pref=2500.0;   #initial pressure psi\n",
    "\n",
    "# permeability\n",
    "k = 100.0;          # unit md;\n",
    "\n",
    "global To0=k/muo*C; #Conductance. pure oil S=0\n",
    "global Tw0=k/muw*C; #Conductance. pure water S=1\n"
   ]
  },
  {
   "cell_type": "code",
   "execution_count": 6,
   "metadata": {
    "collapsed": false
   },
   "outputs": [
    {
     "data": {
      "text/plain": [
       "phi (generic function with 1 method)"
      ]
     },
     "execution_count": 6,
     "metadata": {},
     "output_type": "execute_result"
    }
   ],
   "source": [
    "#porosity versus pressure\n",
    "function phi(p)   \n",
    "    global phistd\n",
    "    global pref\n",
    "    global cr\n",
    "    phi=phistd*exp(cr*(p-pref));\n",
    "    \n",
    "    return phi;\n",
    "end  "
   ]
  },
  {
   "cell_type": "code",
   "execution_count": 7,
   "metadata": {
    "collapsed": true
   },
   "outputs": [],
   "source": [
    "#define variable \n",
    "\n",
    "pmat=fill(pref,Nx,Ny);\n",
    "Smat=fill(0,Nx,Ny);\n",
    "\n",
    "pmat_pre=fill(pref,Nx,Ny);\n",
    "Smat_pre=fill(0.0,Nx,Ny);\n",
    "\n",
    "\n",
    "kormat=fill(0.0,Nx,Ny);\n",
    "kwrmat=fill(0.0,Nx,Ny);\n",
    "\n",
    "kormatW=fill(0.0,Nx,Ny);\n",
    "kwrmatW=fill(0.0,Nx,Ny);\n",
    "\n",
    "#kormatE=fill(0.0,Nx,Ny);\n",
    "#kwrmatE=fill(0.0,Nx,Ny);\n",
    "\n",
    "kormatN=fill(0.0,Nx,Ny);\n",
    "kwrmatN=fill(0.0,Nx,Ny);\n",
    "\n",
    "#kormatS=fill(0.0,Nx,Ny);\n",
    "#kwrmatS=fill(0.0,Nx,Ny);\n",
    "\n",
    "#initialize kormat and kwrmat: average of the neighbours\n",
    "\n",
    "kormat=(1-Smat).^2;\n",
    "kwrmat=Smat.^2;\n",
    "\n",
    "kormatW[:,2:end]=0.5* (kormat[:,1:end-1]+kormat[:,2:end]);\n",
    "kwrmatW[:,2:end]=0.5* (kwrmat[:,1:end-1]+kwrmat[:,2:end]);\n",
    "\n",
    "#kormatE[:,1:end-1]=kormatW[:,2:end];\n",
    "#kwrmatE[:,1:end-1]=kwrmatW[:,2:end];\n",
    "\n",
    "kormatN[2:end,:]=0.5* (kormat[1:end-1,:]+kormat[2:end,:]);\n",
    "kwrmatN[2:end,:]=0.5* (kwrmat[1:end-1,:]+kwrmat[2:end,:]);\n",
    "\n",
    "#kormatS[1:end-1,:]=kormatN[2:end,:];\n",
    "#kwrmatS[1:end-1,:]=kwrmatN[2:end,:];\n"
   ]
  },
  {
   "cell_type": "code",
   "execution_count": 8,
   "metadata": {
    "collapsed": false
   },
   "outputs": [
    {
     "data": {
      "text/plain": [
       "ComputeResOil (generic function with 1 method)"
      ]
     },
     "execution_count": 8,
     "metadata": {},
     "output_type": "execute_result"
    }
   ],
   "source": [
    "#Residue of Oil terms\n",
    "function ComputeResOil(pmat,Smat,kormatW,kormatN,pmat_pre,Smat_pre)\n",
    "    global To0;\n",
    "    global Nx;\n",
    "    global Ny;\n",
    "    global q_produce;\n",
    "    global z;\n",
    "\n",
    "\n",
    "    ResOil=fill(0.0,Nx,Ny);\n",
    "    #oil flow compute\n",
    "\n",
    "    west_oil_flow_in=fill(0.0,Nx,Ny);\n",
    "    east_oil_flow_in=fill(0.0,Nx,Ny);\n",
    "    north_oil_flow_in=fill(0.0,Nx,Ny);\n",
    "    south_oil_flow_in=fill(0.0,Nx,Ny);\n",
    "\n",
    "    west_oil_flow_in[:,2:end]=To0*z*kormatW[:,2:end].*(pmat[:,1:end-1]-pmat[:,2:end]);\n",
    "    east_oil_flow_in[:,1:end-1]= - west_oil_flow_in[:,2:end];\n",
    "    \n",
    "    north_oil_flow_in[2:end,:]=To0*z*kormatN[2:end,:].*(pmat[1:end-1,:]-pmat[2:end,:]);\n",
    "    south_oil_flow_in[1:end-1,:]= -north_oil_flow_in[2:end,:];\n",
    "\n",
    "    \n",
    "    all_oil_flow_in=(west_oil_flow_in+east_oil_flow_in+north_oil_flow_in+south_oil_flow_in);\n",
    "\n",
    "    ResOil=all_oil_flow_in-dx*dy*z/dt*  (phi(pmat).*(1-Smat)-phi(pmat_pre).*(1-Smat_pre));\n",
    "    ResOil[div(Nx+1,2),div(Ny+1,2)]+=-q_produce;\n",
    "    \n",
    "    \n",
    "    return ResOil;\n",
    "end\n",
    "    "
   ]
  },
  {
   "cell_type": "code",
   "execution_count": 9,
   "metadata": {
    "collapsed": false
   },
   "outputs": [
    {
     "data": {
      "text/plain": [
       "ComputeResWater (generic function with 1 method)"
      ]
     },
     "execution_count": 9,
     "metadata": {},
     "output_type": "execute_result"
    }
   ],
   "source": [
    "#Residue of Water terms\n",
    "function ComputeResWater(pmat,Smat,kwrmatW,kwrmatN,pmat_pre,Smat_pre)\n",
    "    global Tw0;\n",
    "    global Nx;\n",
    "    global Ny;\n",
    "    global q_inject;\n",
    "    global z;\n",
    "    \n",
    "    ResWater=fill(0.0,Nx,Ny);\n",
    "    \n",
    "    west_water_flow_in=fill(0.0,Nx,Ny);\n",
    "    east_water_flow_in=fill(0.0,Nx,Ny);\n",
    "    north_water_flow_in=fill(0.0,Nx,Ny);\n",
    "    south_water_flow_in=fill(0.0,Nx,Ny);   \n",
    "    \n",
    "    west_water_flow_in[:,2:end]=Tw0*z*kwrmatW[:,2:end].*(pmat[:,1:end-1]-pmat[:,2:end]);\n",
    "    east_water_flow_in[:,1:end-1]= - west_water_flow_in[:,2:end];\n",
    "    north_water_flow_in[2:end,:]=Tw0*z*kwrmatN[2:end,:].*(pmat[1:end-1,:]-pmat[2:end,:]);\n",
    "    south_water_flow_in[1:end-1,:]= -north_water_flow_in[2:end,:];\n",
    "\n",
    "    all_water_flow_in=(west_water_flow_in+east_water_flow_in+north_water_flow_in+south_water_flow_in);\n",
    "    \n",
    "    ResWater=all_water_flow_in-dx*dy*z/dt*(phi(pmat).*(Smat)-phi(pmat_pre).*(Smat_pre));\n",
    "   \n",
    "    ResWater[1,1]+= -q_inject;\n",
    "    ResWater[1,Ny]+= -q_inject;\n",
    "    ResWater[Nx,Ny]+= -q_inject;\n",
    "    ResWater[Nx,1]+= -q_inject;\n",
    "    \n",
    "    return ResWater;\n",
    "end\n"
   ]
  },
  {
   "cell_type": "code",
   "execution_count": 10,
   "metadata": {
    "collapsed": false
   },
   "outputs": [
    {
     "data": {
      "text/plain": [
       "ComputeJacobian (generic function with 1 method)"
      ]
     },
     "execution_count": 10,
     "metadata": {},
     "output_type": "execute_result"
    }
   ],
   "source": [
    "#Jacobian Construction\n",
    "function ComputeJacobian(pmat,Smat,kormatW,kormatN,kwrmatW,kwrmatN)\n",
    "\n",
    "    global Nx\n",
    "    global Ny\n",
    "    global dx\n",
    "    global dy\n",
    "    global z\n",
    "    global dt\n",
    "    global cr\n",
    "    global To0\n",
    "    global Tw0\n",
    "\n",
    "\n",
    "#construct the Jacobian Submatrix\n",
    "# A= self  B=west  C=east  F=north  G=south\n",
    "# 11= Doil Dp  12 =Doil/DS  21= Dwater/Dp   22= Dwater/DS\n",
    "\n",
    "    \n",
    "    kormatE=fill(0.0,Nx,Ny);\n",
    "    kwrmatE=fill(0.0,Nx,Ny);\n",
    "\n",
    "    kormatS=fill(0.0,Nx,Ny);\n",
    "    kwrmatS=fill(0.0,Nx,Ny);\n",
    "\n",
    "    kormatE[:,1:end-1]=kormatW[:,2:end];\n",
    "    kwrmatE[:,1:end-1]=kwrmatW[:,2:end];\n",
    "\n",
    "    kormatS[1:end-1,:]=kormatN[2:end,:];\n",
    "    kwrmatS[1:end-1,:]=kwrmatN[2:end,:];\n",
    "    \n",
    "    A11=fill(0.0,Nx,Ny);\n",
    "    A12=fill(0.0,Nx,Ny);\n",
    "    A21=fill(0.0,Nx,Ny);\n",
    "    A22=fill(0.0,Nx,Ny);\n",
    "\n",
    "#A11\n",
    "    A11=-z*To0*(kormatW+kormatE+kormatN+kormatS)-dx*dy*z/dt*cr*(phi(pmat).*(1-Smat));\n",
    "\n",
    "#A21\n",
    "    A21=-z*Tw0*(kwrmatW+kwrmatE+kwrmatN+kwrmatS)-dx*dy*z/dt*cr*(phi(pmat).*(Smat));\n",
    "\n",
    "\n",
    "#A12\n",
    "    A12[1,1]=z*To0*(Smat[1,1]-1)*(pmat[2,1]+pmat[1,2]-2*pmat[1,1])+dx*dy*z/dt*phi(pmat[1,1]);\n",
    "    A12[1,end]=z*To0*(Smat[1,end]-1)*(pmat[1,end-1]+pmat[2,end]-2*pmat[1,end])+dx*dy*z/dt*phi(pmat[1,end]);\n",
    "    A12[end,1]=z*To0*(Smat[end,1]-1)*(pmat[end,2]+pmat[end-1,1]-2*pmat[end,1])+dx*dy*z/dt*phi(pmat[end,1]);\n",
    "    A12[end,end]=z*To0*(Smat[end,end]-1)*(pmat[end-1,end]+pmat[end,end-1]-2*pmat[end,end])+dx*dy*z/dt*phi(pmat[end,end]);\n",
    "\n",
    "    for i=2:Nx-1\n",
    "        for j=2:Ny-1\n",
    "            A12[i,j]= z*To0*(Smat[i,j]-1)*(pmat[i+1,j]+pmat[i-1,j]+pmat[i,j+1]+pmat[i,j-1]-4*pmat[i,j])+dx*dy*z/dt*phi(pmat[i,j])\n",
    "        end\n",
    "    end\n",
    "\n",
    "    for j=2:Ny-1\n",
    "        A12[1,j]=z*To0*(Smat[1,j]-1)*(pmat[2,j]+pmat[1,j+1]+pmat[1,j-1]-3*pmat[1,j])+dx*dy*z/dt*phi(pmat[1,j]);\n",
    "        A12[Nx,j]=z*To0*(Smat[Nx,j]-1)*(pmat[Nx-1,j]+pmat[Nx,j+1]+pmat[Nx,j-1]-3*pmat[Nx,j])+dx*dy*z/dt*phi(pmat[1,j]);\n",
    "    end\n",
    "\n",
    "    for i=2:Nx-1\n",
    "        A12[i,1]=z*To0*(Smat[i,1]-1)*(pmat[i,2]+pmat[i+1,1]+pmat[i-1,1]-3*pmat[i,1])+dx*dy*z/dt*phi(pmat[i,1]);\n",
    "        A12[i,Ny]=z*To0*(Smat[i,Ny]-1)*(pmat[i,Ny-1]+pmat[i+1,Ny]+pmat[i-1,Ny]-3*pmat[i,Ny])+dx*dy*z/dt*phi(pmat[i,Ny]);\n",
    "    end\n",
    "\n",
    "#A22\n",
    "    A22[1,1]=z*Tw0*Smat[1,1]*(pmat[2,1]+pmat[1,2]-2*pmat[1,1])-dx*dy*z/dt*phi(pmat[1,1]);\n",
    "    A22[1,end]=z*Tw0*Smat[1,end]*(pmat[1,end-1]+pmat[2,end]-2*pmat[1,end])-dx*dy*z/dt*phi(pmat[1,end]);\n",
    "    A22[end,1]=z*Tw0*Smat[end,1]*(pmat[end,2]+pmat[end-1,1]-2*pmat[end,1])-dx*dy*z/dt*phi(pmat[end,1]);\n",
    "    A22[end,end]=z*Tw0*Smat[end,end]*(pmat[end-1,end]+pmat[end,end-1]-2*pmat[end,end])-dx*dy*z/dt*phi(pmat[end,end]);\n",
    "\n",
    "    for i=2:Nx-1\n",
    "        for j=2:Ny-1\n",
    "            A22[i,j]= z*Tw0*(Smat[i,j])*(pmat[i+1,j]+pmat[i-1,j]+pmat[i,j+1]+pmat[i,j-1]-4*pmat[i,j])-dx*dy*z/dt*phi(pmat[i,j])\n",
    "        end\n",
    "    end\n",
    "\n",
    "    for j=2:Ny-1\n",
    "        A22[1,j]=z*Tw0*(Smat[1,j])*(pmat[2,j]+pmat[1,j+1]+pmat[1,j-1]-3*pmat[1,j])-dx*dy*z/dt*phi(pmat[1,j]);\n",
    "        A22[Nx,j]=z*Tw0*(Smat[Nx,j])*(pmat[Nx-1,j]+pmat[Nx,j+1]+pmat[Nx,j-1]-3*pmat[Nx,j])-dx*dy*z/dt*phi(pmat[1,j]);\n",
    "    end\n",
    "\n",
    "    for i=2:Nx-1\n",
    "        A22[i,1]=z*Tw0*(Smat[i,1])*(pmat[i,2]+pmat[i+1,1]+pmat[i-1,1]-3*pmat[i,1])-dx*dy*z/dt*phi(pmat[i,1]);\n",
    "        A22[i,Ny]=z*Tw0*(Smat[i,Ny])*(pmat[i,Ny-1]+pmat[i+1,Ny]+pmat[i-1,Ny]-3*pmat[i,Ny])-dx*dy*z/dt*phi(pmat[i,Ny]);\n",
    "    end\n",
    "\n",
    "\n",
    "#West\n",
    "\n",
    "    B11=fill(0.0,Nx,Ny);\n",
    "    B12=fill(0.0,Nx,Ny);\n",
    "    B21=fill(0.0,Nx,Ny);\n",
    "    B22=fill(0.0,Nx,Ny);\n",
    "\n",
    "    for i=1:Nx\n",
    "        for j=2:Ny\n",
    "            B11[i,j]=z*To0*kormatW[i,j];\n",
    "            B12[i,j]=z*To0*(Smat[i,j-1]-1)*(pmat[i,j-1]-pmat[i,j]);\n",
    "        end\n",
    "    end\n",
    "\n",
    "    for i=1:Nx\n",
    "        for j=2:Ny\n",
    "            B21[i,j]=z*Tw0*kwrmatW[i,j];\n",
    "            B22[i,j]=z*Tw0*Smat[i,j-1]*(pmat[i,j-1]-pmat[i,j]);\n",
    "        end\n",
    "    end\n",
    "\n",
    "\n",
    "#East\n",
    "\n",
    "    C11=fill(0.0,Nx,Ny);\n",
    "    C12=fill(0.0,Nx,Ny);\n",
    "    C21=fill(0.0,Nx,Ny);\n",
    "    C22=fill(0.0,Nx,Ny);\n",
    "\n",
    "    for i=1:Nx\n",
    "        for j=1:Ny-1\n",
    "            C11[i,j]=z*To0*kormatE[i,j];\n",
    "            C12[i,j]=z*To0*(Smat[i,j+1]-1)*(pmat[i,j+1]-pmat[i,j]);\n",
    "        end\n",
    "    end\n",
    "\n",
    "    for i=1:Nx\n",
    "        for j=1:Ny-1\n",
    "            C21[i,j]=z*Tw0*kwrmatE[i,j];\n",
    "            C22[i,j]=z*Tw0*Smat[i,j+1]*(pmat[i,j+1]-pmat[i,j]);\n",
    "        end\n",
    "    end\n",
    "\n",
    "#North\n",
    "    F11=fill(0.0,Nx,Ny);\n",
    "    F12=fill(0.0,Nx,Ny);\n",
    "    F21=fill(0.0,Nx,Ny);\n",
    "    F22=fill(0.0,Nx,Ny);\n",
    "\n",
    "    for i=2:Nx\n",
    "        for j=1:Ny\n",
    "            F11[i,j]=z*To0*kormatN[i,j];\n",
    "            F12[i,j]=z*To0*(Smat[i-1,j]-1)*(pmat[i-1,j]-pmat[i,j]);\n",
    "        end\n",
    "    end\n",
    "\n",
    "    for i=2:Nx\n",
    "        for j=1:Ny\n",
    "            F21[i,j]=z*Tw0*kwrmatN[i,j];\n",
    "            F22[i,j]=z*Tw0*Smat[i-1,j]*(pmat[i-1,j]-pmat[i,j]);\n",
    "        end\n",
    "    end\n",
    "   \n",
    "    \n",
    "    \n",
    "#South\n",
    "\n",
    "    G11=fill(0.0,Nx,Ny);\n",
    "    G12=fill(0.0,Nx,Ny);\n",
    "    G21=fill(0.0,Nx,Ny);\n",
    "    G22=fill(0.0,Nx,Ny);\n",
    "\n",
    "    for i=1:Nx-1\n",
    "        for j=1:Ny\n",
    "            G11[i,j]=z*To0*kormatS[i,j];\n",
    "            G12[i,j]=z*To0*(Smat[i+1,j]-1)*(pmat[i+1,j]-pmat[i,j]);\n",
    "        end\n",
    "    end\n",
    "\n",
    "    for i=1:Nx-1\n",
    "        for j=1:Ny\n",
    "            G21[i,j]=z*Tw0*kwrmatS[i,j];\n",
    "            G22[i,j]=z*Tw0*Smat[i+1,j]*(pmat[i+1,j]-pmat[i,j]);\n",
    "        end\n",
    "    end\n",
    "\n",
    "    \n",
    "\n",
    "#Jacobian. Put all the derivatives into the right position\n",
    "    J=spzeros(2*Nx*Ny,2*Nx*Ny);\n",
    "\n",
    "    for i= 1:Nx\n",
    "        for j=1:Ny\n",
    "            m=2*(Nx*(i-1)+j)-1;\n",
    "        \n",
    "            J[m,m]=A11[i,j];\n",
    "            J[m+1,m]=A21[i,j];\n",
    "            J[m,m+1]=A12[i,j];\n",
    "            J[m+1,m+1]=A22[i,j];\n",
    "        end\n",
    "    end\n",
    "\n",
    "    for i=1:Nx-1\n",
    "        for j=1:Ny\n",
    "            m=2*(Nx*(i-1)+j)-1;\n",
    "        \n",
    "            J[m,m+2*Nx]=G11[i,j];\n",
    "            J[m+1,m+2*Nx]=G21[i,j];\n",
    "            J[m,m+2*Nx+1]=G12[i,j];\n",
    "            J[m+1,m+2*Nx+1]=G22[i,j];\n",
    "        \n",
    "            J[m,m+2]=C11[i,j];\n",
    "            J[m+1,m+2]=C21[i,j];\n",
    "            J[m,m+3]=C12[i,j];\n",
    "            J[m+1,m+3]=C22[i,j];\n",
    "        \n",
    "        end\n",
    "    end\n",
    "\n",
    "\n",
    "    for i=2:Nx\n",
    "        for j=1:Ny\n",
    "            m=2*(Nx*(i-1)+j)-1;\n",
    "    \n",
    "            J[m,m-2*Nx]=F11[i,j];\n",
    "            J[m+1,m-2*Nx]=F21[i,j];\n",
    "            J[m,m-2*Nx+1]=F12[i,j];\n",
    "            J[m+1,m-2*Nx+1]=F22[i,j];\n",
    "            \n",
    "            J[m,m-2]=B11[i,j];\n",
    "            J[m+1,m-2]=B21[i,j];\n",
    "            J[m,m-1]=B12[i,j];\n",
    "            J[m+1,m-1]=B22[i,j];\n",
    "        \n",
    "        end\n",
    "    end\n",
    "\n",
    "\n",
    "    for j=2:Ny\n",
    "        i=1;\n",
    "            m=2*(Nx*(i-1)+j)-1;\n",
    "            J[m,m-2]=B11[i,j];\n",
    "            J[m+1,m-2]=B21[i,j];\n",
    "            J[m,m-1]=B12[i,j];\n",
    "            J[m+1,m-1]=B22[i,j];\n",
    "        \n",
    "    end\n",
    "\n",
    "    for j=1:Ny-1\n",
    "        i=Nx;\n",
    "            m=2*(Nx*(i-1)+j)-1;\n",
    "            J[m,m+2]=C11[i,j];\n",
    "            J[m+1,m+2]=C21[i,j];\n",
    "            J[m,m+3]=C12[i,j];\n",
    "            J[m+1,m+3]=C22[i,j];\n",
    "    end\n",
    "  \n",
    "    \n",
    "        return J;\n",
    "    end\n",
    "    "
   ]
  },
  {
   "cell_type": "code",
   "execution_count": 11,
   "metadata": {
    "collapsed": false
   },
   "outputs": [
    {
     "data": {
      "text/plain": [
       "ComputePandS (generic function with 1 method)"
      ]
     },
     "execution_count": 11,
     "metadata": {},
     "output_type": "execute_result"
    }
   ],
   "source": [
    "#compute a single time step with Newtonian method\n",
    "function ComputePandS(pmat_pre,Smat_pre)\n",
    "#pmat=fill(pref,Nx,Ny);\n",
    "#Smat=fill(0,Nx,Ny);\n",
    "\n",
    "#pmat_pre=fill(pref,Nx,Ny);\n",
    "#Smat_pre=fill(0.0,Nx,Ny);\n",
    "    global err;\n",
    "    global Nx\n",
    "    global Ny\n",
    "    global dx\n",
    "    global dy\n",
    "    global z\n",
    "    global dt\n",
    "    global cr\n",
    "    global To0\n",
    "    global Tw0\n",
    "    \n",
    "    pmat=pmat_pre;\n",
    "    Smat=Smat_pre;\n",
    "    \n",
    "kormat=fill(0.0,Nx,Ny);\n",
    "kwrmat=fill(0.0,Nx,Ny);\n",
    "\n",
    "kormatW=fill(0.0,Nx,Ny);\n",
    "kwrmatW=fill(0.0,Nx,Ny);\n",
    "\n",
    "kormatN=fill(0.0,Nx,Ny);\n",
    "kwrmatN=fill(0.0,Nx,Ny);\n",
    "\n",
    "#initialize kormat and kwrmat: average of the neighbours\n",
    "\n",
    "kormat=(1-Smat).^2;\n",
    "kwrmat=Smat.^2;\n",
    "\n",
    "kormatW[:,2:end]=0.5* (kormat[:,1:end-1]+kormat[:,2:end]);\n",
    "kwrmatW[:,2:end]=0.5* (kwrmat[:,1:end-1]+kwrmat[:,2:end]);\n",
    "\n",
    "kormatN[2:end,:]=0.5* (kormat[1:end-1,:]+kormat[2:end,:]);\n",
    "kwrmatN[2:end,:]=0.5* (kwrmat[1:end-1,:]+kwrmat[2:end,:]);\n",
    "\n",
    "\n",
    "pmat_reshaped=reshape(pmat,Nx*Ny,1);\n",
    "Smat_reshaped=reshape(Smat,Nx*Ny,1);\n",
    "\n",
    "x=fill(0.0,2*Nx*Ny,1);\n",
    "x[1:2:2*Nx*Ny]=pmat_reshaped;\n",
    "x[2:2:2*Nx*Ny]=Smat_reshaped;\n",
    "\n",
    "ResOil=ComputeResOil(pmat,Smat,kormatW,kormatN,pmat_pre,Smat_pre);\n",
    "ResWater=ComputeResWater(pmat,Smat,kwrmatW,kwrmatN,pmat_pre,Smat_pre);\n",
    "count=0;\n",
    "\n",
    "while (maximum(abs(ResOil))>err)|(maximum(abs(ResWater))>err)\n",
    "    \n",
    "    J=ComputeJacobian(pmat,Smat,kormatW,kormatN,kwrmatW,kwrmatN);\n",
    "    \n",
    "    ResWater_reshaped=reshape(ResWater,Nx*Ny,1);\n",
    "    ResOil_reshaped=reshape(ResOil,Nx*Ny,1);\n",
    "    pmat_reshaped=reshape(pmat,Nx*Ny,1);\n",
    "    Smat_reshaped=reshape(Smat,Nx*Ny,1);\n",
    "\n",
    "\n",
    "    b=fill(0.0,2*Nx*Ny,1);\n",
    "    b[1:2:2*Nx*Ny]=ResOil_reshaped;\n",
    "    b[2:2:2*Nx*Ny]=ResWater_reshaped;\n",
    "    \n",
    "    deltax=-J\\b\n",
    "    \n",
    "    x=x+deltax;\n",
    "    \n",
    "    pmat=reshape(x[1:2:end],Nx,Ny);\n",
    "    Smat=reshape(x[2:2:end],Nx,Ny);\n",
    "\n",
    "    kormat=(1-Smat).^2;\n",
    "    kwrmat=Smat.^2;\n",
    "\n",
    "    kormatW[:,2:end]=0.5* (kormat[:,1:end-1]+kormat[:,2:end]);\n",
    "    kwrmatW[:,2:end]=0.5* (kwrmat[:,1:end-1]+kwrmat[:,2:end]);\n",
    "\n",
    "    kormatN[2:end,:]=0.5* (kormat[1:end-1,:]+kormat[2:end,:]);\n",
    "    kwrmatN[2:end,:]=0.5* (kwrmat[1:end-1,:]+kwrmat[2:end,:]);\n",
    "    ResOil=ComputeResOil(pmat,Smat,kormatW,kormatN,pmat_pre,Smat_pre);\n",
    "    ResWater=ComputeResWater(pmat,Smat,kwrmatW,kwrmatN,pmat_pre,Smat_pre);\n",
    "    count+=1;\n",
    "        \n",
    "end\n",
    "\n",
    "    \n",
    "    return pmat,Smat\n",
    "end\n",
    "    \n"
   ]
  },
  {
   "cell_type": "code",
   "execution_count": 43,
   "metadata": {
    "collapsed": false
   },
   "outputs": [
    {
     "name": "stdout",
     "output_type": "stream",
     "text": [
      "elapsed time: 6.798972064 seconds\n"
     ]
    },
    {
     "data": {
      "text/plain": [
       "6.798972064"
      ]
     },
     "execution_count": 43,
     "metadata": {},
     "output_type": "execute_result"
    }
   ],
   "source": [
    "pmatT=fill(pref,Nx,Ny,T+1);\n",
    "SmatT=fill(pref,Nx,Ny,T+1);\n",
    "\n",
    "pmat=fill(pref,Nx,Ny);\n",
    "Smat=fill(0.0,Nx,Ny);\n",
    "\n",
    "tic();\n",
    "for t=2:1:T+1\n",
    "    pmat_pre=pmat;\n",
    "    Smat_pre=Smat;\n",
    "    pmat,Smat =ComputePandS(pmat_pre,Smat_pre);\n",
    "\n",
    "    pmatT[:,:,t]=pmat;\n",
    "    SmatT[:,:,t]=Smat;\n",
    "end\n",
    "toc()"
   ]
  },
  {
   "cell_type": "code",
   "execution_count": 39,
   "metadata": {
    "collapsed": false
   },
   "outputs": [
    {
     "data": {
      "image/png": "[encoded data removed]",
      "text/plain": [
       "PyPlot.Figure(PyObject <matplotlib.figure.Figure object at 0x31d33ed50>)"
      ]
     },
     "metadata": {},
     "output_type": "display_data"
    },
    {
     "data": {
      "text/plain": [
       "1-element Array{Any,1}:\n",
       " PyObject <matplotlib.lines.Line2D object at 0x3216cc610>"
      ]
     },
     "execution_count": 39,
     "metadata": {},
     "output_type": "execute_result"
    }
   ],
   "source": [
    "#pressure at the produce well versus time\n",
    "plot(0:T,vec(pmatT[div(Nx+1,2),div(Ny+1,2),1:T+1]))"
   ]
  },
  {
   "cell_type": "code",
   "execution_count": 40,
   "metadata": {
    "collapsed": false
   },
   "outputs": [
    {
     "data": {
      "image/png": "[encoded data removed]",
      "text/plain": [
       "PyPlot.Figure(PyObject <matplotlib.figure.Figure object at 0x321a18110>)"
      ]
     },
     "metadata": {},
     "output_type": "display_data"
    },
    {
     "data": {
      "text/plain": [
       "PyObject <matplotlib.colorbar.Colorbar object at 0x3202fce50>"
      ]
     },
     "execution_count": 40,
     "metadata": {},
     "output_type": "execute_result"
    }
   ],
   "source": [
    "#pressure distribution at T\n",
    "\n",
    "imshow(pmatT[:,:,T+1], interpolation=\"nearest\",vmax=pref + 500,vmin = pref - 500, ColorMap(\"seismic\"))\n",
    "colorbar()"
   ]
  },
  {
   "cell_type": "code",
   "execution_count": null,
   "metadata": {
    "collapsed": false
   },
   "outputs": [],
   "source": []
  },
  {
   "cell_type": "code",
   "execution_count": null,
   "metadata": {
    "collapsed": true
   },
   "outputs": [],
   "source": []
  }
 ],
 "metadata": {
  "anaconda-cloud": {},
  "kernelspec": {
   "display_name": "Julia 0.4.6",
   "language": "julia",
   "name": "julia-0.4"
  },
  "language_info": {
   "file_extension": ".jl",
   "mimetype": "application/julia",
   "name": "julia",
   "version": "0.4.6"
  }
 },
 "nbformat": 4,
 "nbformat_minor": 0
}
